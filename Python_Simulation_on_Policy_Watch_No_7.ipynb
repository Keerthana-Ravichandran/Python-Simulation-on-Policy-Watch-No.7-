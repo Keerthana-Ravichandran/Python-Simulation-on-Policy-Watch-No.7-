{
  "nbformat": 4,
  "nbformat_minor": 0,
  "metadata": {
    "colab": {
      "provenance": [],
      "authorship_tag": "ABX9TyPG7I3a3E0frFBg5JaDw8fc",
      "include_colab_link": true
    },
    "kernelspec": {
      "name": "python3",
      "display_name": "Python 3"
    },
    "language_info": {
      "name": "python"
    }
  },
  "cells": [
    {
      "cell_type": "markdown",
      "metadata": {
        "id": "view-in-github",
        "colab_type": "text"
      },
      "source": [
        "<a href=\"https://colab.research.google.com/github/Keerthana-Ravichandran/Python-Simulation-on-Policy-Watch-No.7-/blob/main/Python_Simulation_on_Policy_Watch_No_7.ipynb\" target=\"_parent\"><img src=\"https://colab.research.google.com/assets/colab-badge.svg\" alt=\"Open In Colab\"/></a>"
      ]
    },
    {
      "cell_type": "markdown",
      "source": [
        "Python Simulation on Policy Watch No.7\n",
        "\n",
        "Python Simulation:\n",
        "\n",
        "1.Python simulation is the process of creating computer models or programs that imitate real-world phenomena or systems using the Python programming language.\n",
        "\n",
        "2.It involves using mathematical and statistical models to create virtual representations of complex systems and analyzing their behavior in a simulated environment.\n",
        "\n",
        "Policy Watch N0.7:\n",
        "\n",
        "\n",
        "        Policy Watch No.7 titled \"Winning Voter Confidence: Fixing India's Faulty VVPAT-based Audit of EVMs\" discusses the issues surrounding the use of Electronic Voting Machines (EVMs) in India and proposes solutions for improving the accuracy and transparency of the election process.\n",
        "  \n",
        "        The author argues that the use of Voter Verified Paper Audit Trail (VVPAT) is not enough to ensure the integrity of the voting process and proposes the use of statistical sampling methods to conduct post-election audits. \n",
        "\n",
        "        The paper provides a detailed analysis of different sampling methods and their effectiveness in improving the accuracy of election results. \n",
        "\n",
        "        The author also proposes the use of state-level populations for sampling rather than parliamentary or assembly constituencies. The paper includes tables and charts that can be used to simulate and understand the sampling process. \n",
        "  \n",
        "   Overall, the paper provides valuable insights for policymakers and election officials in India to improve the accuracy and transparency of the election process."
      ],
      "metadata": {
        "id": "X5ku2Cko2BRl"
      }
    },
    {
      "cell_type": "markdown",
      "source": [
        "\n",
        "*****\n",
        "\n",
        "\n",
        "NOW LETS PERFORM PYTHON SIMULATION ON THE PAPER \"POLICY WATCH NO.7 \n",
        "\n",
        "\n",
        "*****\n",
        "\n",
        "We now proceed to show that  the boundaries for the population of EVMs can be an\n",
        "Assembly Constituency, or a Parliamentary Constituency, or a State as a whole, or India as a whole, only one of these populations [a State as a whole] is administratively viable. \"\n",
        "\n",
        "\n"
      ],
      "metadata": {
        "id": "xU0aVFsJ4Gd-"
      }
    },
    {
      "cell_type": "markdown",
      "source": [
        "*SOME ODDITIES OF STATISTICAL SAMPLING*"
      ],
      "metadata": {
        "id": "AdgRYz8C607w"
      }
    },
    {
      "cell_type": "markdown",
      "source": [
        "*Importing the Libraries*"
      ],
      "metadata": {
        "id": "YgvWJzqa7O3O"
      }
    },
    {
      "cell_type": "code",
      "source": [
        "import numpy as np\n",
        "import pandas as pd\n",
        "import altair as alt\n",
        "import random\n",
        "import math\n",
        "import scipy.stats as stats\n",
        "import matplotlib.pyplot as plt\n",
        "from scipy.stats import hypergeom\n",
        "\n"
      ],
      "metadata": {
        "id": "f32c1rlE7EnY"
      },
      "execution_count": null,
      "outputs": []
    },
    {
      "cell_type": "code",
      "source": [
        "!pip install altair_viewer\n"
      ],
      "metadata": {
        "id": "JiMZbDztdclu"
      },
      "execution_count": null,
      "outputs": []
    },
    {
      "cell_type": "markdown",
      "source": [
        "*Python Code*"
      ],
      "metadata": {
        "id": "eyoKwWeJ7bUa"
      }
    },
    {
      "cell_type": "markdown",
      "source": [
        " This demonstrates how we can use the hypergeometric distribution to simulate the VVPAT-based audit process described in Policy Watch No.7:"
      ],
      "metadata": {
        "id": "l4NGY0LZ9Ocl"
      }
    },
    {
      "cell_type": "code",
      "source": [
        "\n",
        "# Define the number of total votes and the margin of victory\n",
        "num_votes = 100000\n",
        "margin = 5000\n",
        "\n",
        "# Define the size of the sample to be audited\n",
        "sample_size = 1000\n",
        "\n",
        "# Calculate the number of votes required to win\n",
        "winning_votes = (num_votes // 2) + margin\n",
        "\n",
        "# Simulate the election results\n",
        "results = [0] * (num_votes - winning_votes) + [1] * winning_votes\n",
        "random.shuffle(results)\n",
        "\n",
        "# Simulate the VVPAT-based audit process using the hypergeometric distribution\n",
        "audit_results = []\n",
        "for i in range(100):\n",
        "    sample = random.sample(results, sample_size)\n",
        "    num_winning_votes = sum(sample)\n",
        "    pvalue = 1 - hypergeom.cdf(num_winning_votes, len(results), sum(results), sample_size)\n",
        "    audit_results.append({\"sample\": i + 1, \"winning_votes\": num_winning_votes, \"p-value\": pvalue})\n",
        "\n",
        "# Convert the audit results to a pandas DataFrame\n",
        "df = pd.DataFrame(audit_results)\n",
        "\n",
        "# Create an Altair chart to visualize the p-values\n",
        "chart = alt.Chart(df).mark_bar().encode(\n",
        "    x=alt.X(\"sample:O\", title=\"Sample\"),\n",
        "    y=alt.Y(\"p-value:Q\", title=\"p-value\")\n",
        ").properties(\n",
        "    title=\"VVPAT-based Audit Results\"\n",
        ")\n",
        "\n",
        "# Display the chart\n",
        "chart.display()\n"
      ],
      "metadata": {
        "id": "EZjfVrHTY3DS",
        "colab": {
          "base_uri": "https://localhost:8080/",
          "height": 412
        },
        "outputId": "92abce02-2691-4925-eb5b-f59dd0a608b9"
      },
      "execution_count": null,
      "outputs": [
        {
          "output_type": "display_data",
          "data": {
            "text/html": [
              "\n",
              "<div id=\"altair-viz-bc55a7bf7aac48f18f398d802e43bebb\"></div>\n",
              "<script type=\"text/javascript\">\n",
              "  var VEGA_DEBUG = (typeof VEGA_DEBUG == \"undefined\") ? {} : VEGA_DEBUG;\n",
              "  (function(spec, embedOpt){\n",
              "    let outputDiv = document.currentScript.previousElementSibling;\n",
              "    if (outputDiv.id !== \"altair-viz-bc55a7bf7aac48f18f398d802e43bebb\") {\n",
              "      outputDiv = document.getElementById(\"altair-viz-bc55a7bf7aac48f18f398d802e43bebb\");\n",
              "    }\n",
              "    const paths = {\n",
              "      \"vega\": \"https://cdn.jsdelivr.net/npm//vega@5?noext\",\n",
              "      \"vega-lib\": \"https://cdn.jsdelivr.net/npm//vega-lib?noext\",\n",
              "      \"vega-lite\": \"https://cdn.jsdelivr.net/npm//vega-lite@4.17.0?noext\",\n",
              "      \"vega-embed\": \"https://cdn.jsdelivr.net/npm//vega-embed@6?noext\",\n",
              "    };\n",
              "\n",
              "    function maybeLoadScript(lib, version) {\n",
              "      var key = `${lib.replace(\"-\", \"\")}_version`;\n",
              "      return (VEGA_DEBUG[key] == version) ?\n",
              "        Promise.resolve(paths[lib]) :\n",
              "        new Promise(function(resolve, reject) {\n",
              "          var s = document.createElement('script');\n",
              "          document.getElementsByTagName(\"head\")[0].appendChild(s);\n",
              "          s.async = true;\n",
              "          s.onload = () => {\n",
              "            VEGA_DEBUG[key] = version;\n",
              "            return resolve(paths[lib]);\n",
              "          };\n",
              "          s.onerror = () => reject(`Error loading script: ${paths[lib]}`);\n",
              "          s.src = paths[lib];\n",
              "        });\n",
              "    }\n",
              "\n",
              "    function showError(err) {\n",
              "      outputDiv.innerHTML = `<div class=\"error\" style=\"color:red;\">${err}</div>`;\n",
              "      throw err;\n",
              "    }\n",
              "\n",
              "    function displayChart(vegaEmbed) {\n",
              "      vegaEmbed(outputDiv, spec, embedOpt)\n",
              "        .catch(err => showError(`Javascript Error: ${err.message}<br>This usually means there's a typo in your chart specification. See the javascript console for the full traceback.`));\n",
              "    }\n",
              "\n",
              "    if(typeof define === \"function\" && define.amd) {\n",
              "      requirejs.config({paths});\n",
              "      require([\"vega-embed\"], displayChart, err => showError(`Error loading script: ${err.message}`));\n",
              "    } else {\n",
              "      maybeLoadScript(\"vega\", \"5\")\n",
              "        .then(() => maybeLoadScript(\"vega-lite\", \"4.17.0\"))\n",
              "        .then(() => maybeLoadScript(\"vega-embed\", \"6\"))\n",
              "        .catch(showError)\n",
              "        .then(() => displayChart(vegaEmbed));\n",
              "    }\n",
              "  })({\"config\": {\"view\": {\"continuousWidth\": 400, \"continuousHeight\": 300}}, \"data\": {\"name\": \"data-8b8ca7d8b560057f6d7c7c3c0fa8de99\"}, \"mark\": \"bar\", \"encoding\": {\"x\": {\"field\": \"sample\", \"title\": \"Sample\", \"type\": \"ordinal\"}, \"y\": {\"field\": \"p-value\", \"title\": \"p-value\", \"type\": \"quantitative\"}}, \"title\": \"VVPAT-based Audit Results\", \"$schema\": \"https://vega.github.io/schema/vega-lite/v4.17.0.json\", \"datasets\": {\"data-8b8ca7d8b560057f6d7c7c3c0fa8de99\": [{\"sample\": 1, \"winning_votes\": 547, \"p-value\": 0.5638412229906047}, {\"sample\": 2, \"winning_votes\": 570, \"p-value\": 0.0950204531147314}, {\"sample\": 3, \"winning_votes\": 535, \"p-value\": 0.8228971548465667}, {\"sample\": 4, \"winning_votes\": 535, \"p-value\": 0.8228971548465667}, {\"sample\": 5, \"winning_votes\": 526, \"p-value\": 0.9332102470313473}, {\"sample\": 6, \"winning_votes\": 523, \"p-value\": 0.9546060269205173}, {\"sample\": 7, \"winning_votes\": 598, \"p-value\": 0.0009364592238481073}, {\"sample\": 8, \"winning_votes\": 557, \"p-value\": 0.3162190181334221}, {\"sample\": 9, \"winning_votes\": 571, \"p-value\": 0.08463619560259639}, {\"sample\": 10, \"winning_votes\": 547, \"p-value\": 0.5638412229906047}, {\"sample\": 11, \"winning_votes\": 540, \"p-value\": 0.7282503607554557}, {\"sample\": 12, \"winning_votes\": 569, \"p-value\": 0.10631209629365479}, {\"sample\": 13, \"winning_votes\": 531, \"p-value\": 0.8812956489596435}, {\"sample\": 14, \"winning_votes\": 557, \"p-value\": 0.3162190181334221}, {\"sample\": 15, \"winning_votes\": 567, \"p-value\": 0.13172734237179473}, {\"sample\": 16, \"winning_votes\": 544, \"p-value\": 0.6376760485929912}, {\"sample\": 17, \"winning_votes\": 536, \"p-value\": 0.8058459589715578}, {\"sample\": 18, \"winning_votes\": 534, \"p-value\": 0.8389688016824574}, {\"sample\": 19, \"winning_votes\": 537, \"p-value\": 0.7878287667250534}, {\"sample\": 20, \"winning_votes\": 551, \"p-value\": 0.4622430467632339}, {\"sample\": 21, \"winning_votes\": 542, \"p-value\": 0.6843532208611975}, {\"sample\": 22, \"winning_votes\": 552, \"p-value\": 0.4369601909119264}, {\"sample\": 23, \"winning_votes\": 578, \"p-value\": 0.0341150157861253}, {\"sample\": 24, \"winning_votes\": 550, \"p-value\": 0.48767596307374894}, {\"sample\": 25, \"winning_votes\": 559, \"p-value\": 0.27218742460418754}, {\"sample\": 26, \"winning_votes\": 555, \"p-value\": 0.36301041559072456}, {\"sample\": 27, \"winning_votes\": 535, \"p-value\": 0.8228971548465667}, {\"sample\": 28, \"winning_votes\": 545, \"p-value\": 0.6134857098341405}, {\"sample\": 29, \"winning_votes\": 561, \"p-value\": 0.23142488346495638}, {\"sample\": 30, \"winning_votes\": 562, \"p-value\": 0.2123907800553907}, {\"sample\": 31, \"winning_votes\": 545, \"p-value\": 0.6134857098341405}, {\"sample\": 32, \"winning_votes\": 540, \"p-value\": 0.7282503607554557}, {\"sample\": 33, \"winning_votes\": 565, \"p-value\": 0.1610412487813765}, {\"sample\": 34, \"winning_votes\": 545, \"p-value\": 0.6134857098341405}, {\"sample\": 35, \"winning_votes\": 571, \"p-value\": 0.08463619560259639}, {\"sample\": 36, \"winning_votes\": 512, \"p-value\": 0.9916140054101856}, {\"sample\": 37, \"winning_votes\": 565, \"p-value\": 0.1610412487813765}, {\"sample\": 38, \"winning_votes\": 542, \"p-value\": 0.6843532208611975}, {\"sample\": 39, \"winning_votes\": 572, \"p-value\": 0.07512566064576287}, {\"sample\": 40, \"winning_votes\": 525, \"p-value\": 0.9410732560430245}, {\"sample\": 41, \"winning_votes\": 547, \"p-value\": 0.5638412229906047}, {\"sample\": 42, \"winning_votes\": 571, \"p-value\": 0.08463619560259639}, {\"sample\": 43, \"winning_votes\": 565, \"p-value\": 0.1610412487813765}, {\"sample\": 44, \"winning_votes\": 533, \"p-value\": 0.8540558479002296}, {\"sample\": 45, \"winning_votes\": 564, \"p-value\": 0.1771799495066796}, {\"sample\": 46, \"winning_votes\": 550, \"p-value\": 0.48767596307374894}, {\"sample\": 47, \"winning_votes\": 545, \"p-value\": 0.6134857098341405}, {\"sample\": 48, \"winning_votes\": 540, \"p-value\": 0.7282503607554557}, {\"sample\": 49, \"winning_votes\": 543, \"p-value\": 0.6613258139116135}, {\"sample\": 50, \"winning_votes\": 556, \"p-value\": 0.33930664495526974}, {\"sample\": 51, \"winning_votes\": 581, \"p-value\": 0.02189632902996952}, {\"sample\": 52, \"winning_votes\": 563, \"p-value\": 0.1943013084482652}, {\"sample\": 53, \"winning_votes\": 544, \"p-value\": 0.6376760485929912}, {\"sample\": 54, \"winning_votes\": 553, \"p-value\": 0.4119288571981381}, {\"sample\": 55, \"winning_votes\": 541, \"p-value\": 0.7066836548574129}, {\"sample\": 56, \"winning_votes\": 544, \"p-value\": 0.6376760485929912}, {\"sample\": 57, \"winning_votes\": 551, \"p-value\": 0.4622430467632339}, {\"sample\": 58, \"winning_votes\": 558, \"p-value\": 0.29382329032650256}, {\"sample\": 59, \"winning_votes\": 548, \"p-value\": 0.5385784598959921}, {\"sample\": 60, \"winning_votes\": 562, \"p-value\": 0.2123907800553907}, {\"sample\": 61, \"winning_votes\": 553, \"p-value\": 0.4119288571981381}, {\"sample\": 62, \"winning_votes\": 539, \"p-value\": 0.748994985140563}, {\"sample\": 63, \"winning_votes\": 542, \"p-value\": 0.6843532208611975}, {\"sample\": 64, \"winning_votes\": 558, \"p-value\": 0.29382329032650256}, {\"sample\": 65, \"winning_votes\": 544, \"p-value\": 0.6376760485929912}, {\"sample\": 66, \"winning_votes\": 579, \"p-value\": 0.029535325187185824}, {\"sample\": 67, \"winning_votes\": 568, \"p-value\": 0.11853997303102792}, {\"sample\": 68, \"winning_votes\": 565, \"p-value\": 0.1610412487813765}, {\"sample\": 69, \"winning_votes\": 531, \"p-value\": 0.8812956489596435}, {\"sample\": 70, \"winning_votes\": 535, \"p-value\": 0.8228971548465667}, {\"sample\": 71, \"winning_votes\": 531, \"p-value\": 0.8812956489596435}, {\"sample\": 72, \"winning_votes\": 542, \"p-value\": 0.6843532208611975}, {\"sample\": 73, \"winning_votes\": 540, \"p-value\": 0.7282503607554557}, {\"sample\": 74, \"winning_votes\": 540, \"p-value\": 0.7282503607554557}, {\"sample\": 75, \"winning_votes\": 543, \"p-value\": 0.6613258139116135}, {\"sample\": 76, \"winning_votes\": 545, \"p-value\": 0.6134857098341405}, {\"sample\": 77, \"winning_votes\": 562, \"p-value\": 0.2123907800553907}, {\"sample\": 78, \"winning_votes\": 545, \"p-value\": 0.6134857098341405}, {\"sample\": 79, \"winning_votes\": 544, \"p-value\": 0.6376760485929912}, {\"sample\": 80, \"winning_votes\": 546, \"p-value\": 0.588842926772565}, {\"sample\": 81, \"winning_votes\": 541, \"p-value\": 0.7066836548574129}, {\"sample\": 82, \"winning_votes\": 559, \"p-value\": 0.27218742460418754}, {\"sample\": 83, \"winning_votes\": 548, \"p-value\": 0.5385784598959921}, {\"sample\": 84, \"winning_votes\": 549, \"p-value\": 0.5131556929730217}, {\"sample\": 85, \"winning_votes\": 518, \"p-value\": 0.9777680584070274}, {\"sample\": 86, \"winning_votes\": 531, \"p-value\": 0.8812956489596435}, {\"sample\": 87, \"winning_votes\": 568, \"p-value\": 0.11853997303102792}, {\"sample\": 88, \"winning_votes\": 534, \"p-value\": 0.8389688016824574}, {\"sample\": 89, \"winning_votes\": 561, \"p-value\": 0.23142488346495638}, {\"sample\": 90, \"winning_votes\": 545, \"p-value\": 0.6134857098341405}, {\"sample\": 91, \"winning_votes\": 549, \"p-value\": 0.5131556929730217}, {\"sample\": 92, \"winning_votes\": 549, \"p-value\": 0.5131556929730217}, {\"sample\": 93, \"winning_votes\": 528, \"p-value\": 0.9150761812378811}, {\"sample\": 94, \"winning_votes\": 560, \"p-value\": 0.25137101850996657}, {\"sample\": 95, \"winning_votes\": 547, \"p-value\": 0.5638412229906047}, {\"sample\": 96, \"winning_votes\": 552, \"p-value\": 0.4369601909119264}, {\"sample\": 97, \"winning_votes\": 560, \"p-value\": 0.25137101850996657}, {\"sample\": 98, \"winning_votes\": 537, \"p-value\": 0.7878287667250534}, {\"sample\": 99, \"winning_votes\": 560, \"p-value\": 0.25137101850996657}, {\"sample\": 100, \"winning_votes\": 561, \"p-value\": 0.23142488346495638}]}}, {\"mode\": \"vega-lite\"});\n",
              "</script>"
            ],
            "text/plain": [
              "alt.Chart(...)"
            ]
          },
          "metadata": {}
        }
      ]
    },
    {
      "cell_type": "code",
      "source": [
        "# Define the population size range (in millions)\n",
        "pop_size = np.arange(1, 11)\n",
        "\n",
        "# Define the corresponding sample size range (as a percentage of population size)\n",
        "sample_size = np.round(np.sqrt(pop_size) * 100)\n",
        "\n",
        "# Create a DataFrame to store the data\n",
        "data = pd.DataFrame({'Population Size (Millions)': pop_size, 'Sample Size': sample_size})\n",
        "\n",
        "# Create a bar chart using Altair\n",
        "chart = alt.Chart(data).mark_bar().encode(\n",
        "    x='Population Size (Millions)',\n",
        "    y='Sample Size',\n",
        "    tooltip=['Population Size (Millions)', 'Sample Size']\n",
        ").properties(\n",
        "    title='Sample Size vs Population Size'\n",
        ")\n",
        "\n",
        "# Show the chart\n",
        "chart\n"
      ],
      "metadata": {
        "colab": {
          "base_uri": "https://localhost:8080/",
          "height": 385
        },
        "id": "iYr7GaJLshs7",
        "outputId": "d0c54465-f23a-4fac-f630-dd2d7f5bc383"
      },
      "execution_count": null,
      "outputs": [
        {
          "output_type": "execute_result",
          "data": {
            "text/html": [
              "\n",
              "<div id=\"altair-viz-a7d1318f041c4879b929d8a57325057a\"></div>\n",
              "<script type=\"text/javascript\">\n",
              "  var VEGA_DEBUG = (typeof VEGA_DEBUG == \"undefined\") ? {} : VEGA_DEBUG;\n",
              "  (function(spec, embedOpt){\n",
              "    let outputDiv = document.currentScript.previousElementSibling;\n",
              "    if (outputDiv.id !== \"altair-viz-a7d1318f041c4879b929d8a57325057a\") {\n",
              "      outputDiv = document.getElementById(\"altair-viz-a7d1318f041c4879b929d8a57325057a\");\n",
              "    }\n",
              "    const paths = {\n",
              "      \"vega\": \"https://cdn.jsdelivr.net/npm//vega@5?noext\",\n",
              "      \"vega-lib\": \"https://cdn.jsdelivr.net/npm//vega-lib?noext\",\n",
              "      \"vega-lite\": \"https://cdn.jsdelivr.net/npm//vega-lite@4.17.0?noext\",\n",
              "      \"vega-embed\": \"https://cdn.jsdelivr.net/npm//vega-embed@6?noext\",\n",
              "    };\n",
              "\n",
              "    function maybeLoadScript(lib, version) {\n",
              "      var key = `${lib.replace(\"-\", \"\")}_version`;\n",
              "      return (VEGA_DEBUG[key] == version) ?\n",
              "        Promise.resolve(paths[lib]) :\n",
              "        new Promise(function(resolve, reject) {\n",
              "          var s = document.createElement('script');\n",
              "          document.getElementsByTagName(\"head\")[0].appendChild(s);\n",
              "          s.async = true;\n",
              "          s.onload = () => {\n",
              "            VEGA_DEBUG[key] = version;\n",
              "            return resolve(paths[lib]);\n",
              "          };\n",
              "          s.onerror = () => reject(`Error loading script: ${paths[lib]}`);\n",
              "          s.src = paths[lib];\n",
              "        });\n",
              "    }\n",
              "\n",
              "    function showError(err) {\n",
              "      outputDiv.innerHTML = `<div class=\"error\" style=\"color:red;\">${err}</div>`;\n",
              "      throw err;\n",
              "    }\n",
              "\n",
              "    function displayChart(vegaEmbed) {\n",
              "      vegaEmbed(outputDiv, spec, embedOpt)\n",
              "        .catch(err => showError(`Javascript Error: ${err.message}<br>This usually means there's a typo in your chart specification. See the javascript console for the full traceback.`));\n",
              "    }\n",
              "\n",
              "    if(typeof define === \"function\" && define.amd) {\n",
              "      requirejs.config({paths});\n",
              "      require([\"vega-embed\"], displayChart, err => showError(`Error loading script: ${err.message}`));\n",
              "    } else {\n",
              "      maybeLoadScript(\"vega\", \"5\")\n",
              "        .then(() => maybeLoadScript(\"vega-lite\", \"4.17.0\"))\n",
              "        .then(() => maybeLoadScript(\"vega-embed\", \"6\"))\n",
              "        .catch(showError)\n",
              "        .then(() => displayChart(vegaEmbed));\n",
              "    }\n",
              "  })({\"config\": {\"view\": {\"continuousWidth\": 400, \"continuousHeight\": 300}}, \"data\": {\"name\": \"data-152127c0f1362b30a17660176eaa928f\"}, \"mark\": \"bar\", \"encoding\": {\"tooltip\": [{\"field\": \"Population Size (Millions)\", \"type\": \"quantitative\"}, {\"field\": \"Sample Size\", \"type\": \"quantitative\"}], \"x\": {\"field\": \"Population Size (Millions)\", \"type\": \"quantitative\"}, \"y\": {\"field\": \"Sample Size\", \"type\": \"quantitative\"}}, \"title\": \"Sample Size vs Population Size\", \"$schema\": \"https://vega.github.io/schema/vega-lite/v4.17.0.json\", \"datasets\": {\"data-152127c0f1362b30a17660176eaa928f\": [{\"Population Size (Millions)\": 1, \"Sample Size\": 100.0}, {\"Population Size (Millions)\": 2, \"Sample Size\": 141.0}, {\"Population Size (Millions)\": 3, \"Sample Size\": 173.0}, {\"Population Size (Millions)\": 4, \"Sample Size\": 200.0}, {\"Population Size (Millions)\": 5, \"Sample Size\": 224.0}, {\"Population Size (Millions)\": 6, \"Sample Size\": 245.0}, {\"Population Size (Millions)\": 7, \"Sample Size\": 265.0}, {\"Population Size (Millions)\": 8, \"Sample Size\": 283.0}, {\"Population Size (Millions)\": 9, \"Sample Size\": 300.0}, {\"Population Size (Millions)\": 10, \"Sample Size\": 316.0}]}}, {\"mode\": \"vega-lite\"});\n",
              "</script>"
            ],
            "text/plain": [
              "alt.Chart(...)"
            ]
          },
          "metadata": {},
          "execution_count": 15
        }
      ]
    },
    {
      "cell_type": "markdown",
      "source": [
        "*EVMs of an Assembly Constituency as ‘population’:*\n",
        "\n",
        "Table 4 in \"Policy Watch No-7\"shows the assembly constituency, the population size (which is the total number of polling stations in the constituency), the number of defective EVMs in the population assuming a probability of 0.01, the required sample size, the percentage of the sample size to the population size, and the probability that the ECI-prescribed sample size of one EVM per Assembly Constituency will fail to detect a defective EVM."
      ],
      "metadata": {
        "id": "rV4WV2soBVIL"
      }
    },
    {
      "cell_type": "code",
      "source": [
        "# Define the data for the table\n",
        "data = {'Assembly Constituency': ['A', 'B', 'C', 'D'],\n",
        "        'Population Size (N)': [50, 100, 200, 300],\n",
        "        'Number of Defective EVMs (P=0.01)': [1, 1, 2, 3]}\n",
        "\n",
        "# Calculate the required sample sizes and add them to the DataFrame\n",
        "n = np.ceil(np.log(1 - 0.95) / np.log(1 - 0.01**2))\n",
        "data['Sample Size (n)'] = n\n",
        "data['% of n to N'] = np.round(n / data['Population Size (N)'] * 100, 1)\n",
        "\n",
        "# Calculate the probability that the ECI-prescribed sample size of one EVM per Assembly Constituency will fail to detect a defective EVM\n",
        "p_fail = (1 - 0.01)**n\n",
        "data['Probability of Failure'] = np.round(p_fail * 100, 1)\n",
        "\n",
        "# Create a DataFrame to store the data\n",
        "df = pd.DataFrame(data)\n",
        "\n",
        "# Print the table\n",
        "print(df)\n"
      ],
      "metadata": {
        "id": "kAAbtkP2tJnR"
      },
      "execution_count": null,
      "outputs": []
    },
    {
      "cell_type": "markdown",
      "source": [
        "Sample Sizes for Assembly Constituencies"
      ],
      "metadata": {
        "id": "6U-XrzDIvDtc"
      }
    },
    {
      "cell_type": "code",
      "source": [
        "# Define the data for the table\n",
        "N = np.array([50, 100, 200, 300])\n",
        "k = np.array([1, 1, 2, 3])\n",
        "P = 0.01\n",
        "n = np.ceil(np.log(1 - 0.95) / np.log(1 - P**k))\n",
        "\n",
        "# Set up the bar chart\n",
        "fig, ax = plt.subplots()\n",
        "ax.bar(N, n, width=10)\n",
        "\n",
        "# Set the plot title and axis labels\n",
        "ax.set_title('Sample Sizes for Assembly Constituencies')\n",
        "ax.set_xlabel('Population Size (Number of EVMs)')\n",
        "ax.set_ylabel('Sample Size')\n",
        "\n",
        "\n",
        "\n",
        "# Display the plot\n",
        "plt.show()\n"
      ],
      "metadata": {
        "colab": {
          "base_uri": "https://localhost:8080/",
          "height": 472
        },
        "id": "hgIEyOzqvFqs",
        "outputId": "7863374e-3cbf-458a-a9df-5be264e1c30e"
      },
      "execution_count": null,
      "outputs": [
        {
          "output_type": "display_data",
          "data": {
            "text/plain": [
              "<Figure size 640x480 with 1 Axes>"
            ],
            "image/png": "[encoded data removed]"
          },
          "metadata": {}
        }
      ]
    },
    {
      "cell_type": "markdown",
      "source": [
        "*EVMs of a Parliamentary Constituency as ‘population’:*"
      ],
      "metadata": {
        "id": "mpYR_Y32v8sq"
      }
    },
    {
      "cell_type": "code",
      "source": [
        "def calc_sample_size(n, N, p):\n",
        "    q = 1 - p\n",
        "    k = math.ceil(N / n)\n",
        "    return math.ceil(n * ((k-1) * p + 1) * ((k-1) * q + 1))\n",
        "\n",
        "def simulate_parliamentary_constituency(N_list, P=0.01):\n",
        "    df_list = []\n",
        "    for N in N_list:\n",
        "        n = 6  # ECI-prescribed sample size\n",
        "        defective_evms = math.ceil(N * P)\n",
        "        sample_size = calc_sample_size(n, N, P)\n",
        "        pct_n_to_N = round((n / N) * 100, 2)\n",
        "        prob_fail = round(((defective_evms / N) ** n) * 100, 1)\n",
        "        df_list.append(pd.DataFrame({\n",
        "            'Population Size (N)': [N],\n",
        "            'Number of Defective EVMs in the Population': [defective_evms],\n",
        "            'Sample Size (n) Required': [sample_size],\n",
        "            '% of n to N': [pct_n_to_N],\n",
        "            'Probability of Failing to Detect a Defective EVM (%)': [prob_fail]\n",
        "        }))\n",
        "    return pd.concat(df_list, ignore_index=True)\n",
        "\n",
        "N_list = [300, 600, 1200, 1800]\n",
        "df_table_5 = simulate_parliamentary_constituency(N_list)\n",
        "print(df_table_5)\n",
        "\n",
        "chart_table_5 = alt.Chart(df_table_5).mark_bar().encode(\n",
        "    x='Population Size (N):Q',\n",
        "    y='Sample Size (n) Required:Q',\n",
        "    color=alt.Color('% of n to N:O', scale=alt.Scale(scheme='reds')),\n",
        "    tooltip=['Population Size (N)', 'Number of Defective EVMs in the Population',\n",
        "             'Sample Size (n) Required', '% of n to N',\n",
        "             'Probability of Failing to Detect a Defective EVM (%)']\n",
        ").properties(title='Sample Sizes if EVMs of a Parliamentary Constituency are the Population',\n",
        "             width=500, height=300)\n",
        "chart_table_5\n"
      ],
      "metadata": {
        "colab": {
          "base_uri": "https://localhost:8080/",
          "height": 680
        },
        "id": "GS--bZWZv-wH",
        "outputId": "4bb7ac70-e7b8-481e-fdb7-896897d973d4"
      },
      "execution_count": null,
      "outputs": [
        {
          "output_type": "stream",
          "name": "stdout",
          "text": [
            "   Population Size (N)  Number of Defective EVMs in the Population  \\\n",
            "0                  300                                           3   \n",
            "1                  600                                           6   \n",
            "2                 1200                                          12   \n",
            "3                 1800                                          18   \n",
            "\n",
            "   Sample Size (n) Required  % of n to N  \\\n",
            "0                       443         2.00   \n",
            "1                      1183         1.00   \n",
            "2                      3553         0.50   \n",
            "3                      7111         0.33   \n",
            "\n",
            "   Probability of Failing to Detect a Defective EVM (%)  \n",
            "0                                                0.0     \n",
            "1                                                0.0     \n",
            "2                                                0.0     \n",
            "3                                                0.0     \n"
          ]
        },
        {
          "output_type": "execute_result",
          "data": {
            "text/html": [
              "\n",
              "<div id=\"altair-viz-35dfc01fbd30472fac551f1815da2e05\"></div>\n",
              "<script type=\"text/javascript\">\n",
              "  var VEGA_DEBUG = (typeof VEGA_DEBUG == \"undefined\") ? {} : VEGA_DEBUG;\n",
              "  (function(spec, embedOpt){\n",
              "    let outputDiv = document.currentScript.previousElementSibling;\n",
              "    if (outputDiv.id !== \"altair-viz-35dfc01fbd30472fac551f1815da2e05\") {\n",
              "      outputDiv = document.getElementById(\"altair-viz-35dfc01fbd30472fac551f1815da2e05\");\n",
              "    }\n",
              "    const paths = {\n",
              "      \"vega\": \"https://cdn.jsdelivr.net/npm//vega@5?noext\",\n",
              "      \"vega-lib\": \"https://cdn.jsdelivr.net/npm//vega-lib?noext\",\n",
              "      \"vega-lite\": \"https://cdn.jsdelivr.net/npm//vega-lite@4.17.0?noext\",\n",
              "      \"vega-embed\": \"https://cdn.jsdelivr.net/npm//vega-embed@6?noext\",\n",
              "    };\n",
              "\n",
              "    function maybeLoadScript(lib, version) {\n",
              "      var key = `${lib.replace(\"-\", \"\")}_version`;\n",
              "      return (VEGA_DEBUG[key] == version) ?\n",
              "        Promise.resolve(paths[lib]) :\n",
              "        new Promise(function(resolve, reject) {\n",
              "          var s = document.createElement('script');\n",
              "          document.getElementsByTagName(\"head\")[0].appendChild(s);\n",
              "          s.async = true;\n",
              "          s.onload = () => {\n",
              "            VEGA_DEBUG[key] = version;\n",
              "            return resolve(paths[lib]);\n",
              "          };\n",
              "          s.onerror = () => reject(`Error loading script: ${paths[lib]}`);\n",
              "          s.src = paths[lib];\n",
              "        });\n",
              "    }\n",
              "\n",
              "    function showError(err) {\n",
              "      outputDiv.innerHTML = `<div class=\"error\" style=\"color:red;\">${err}</div>`;\n",
              "      throw err;\n",
              "    }\n",
              "\n",
              "    function displayChart(vegaEmbed) {\n",
              "      vegaEmbed(outputDiv, spec, embedOpt)\n",
              "        .catch(err => showError(`Javascript Error: ${err.message}<br>This usually means there's a typo in your chart specification. See the javascript console for the full traceback.`));\n",
              "    }\n",
              "\n",
              "    if(typeof define === \"function\" && define.amd) {\n",
              "      requirejs.config({paths});\n",
              "      require([\"vega-embed\"], displayChart, err => showError(`Error loading script: ${err.message}`));\n",
              "    } else {\n",
              "      maybeLoadScript(\"vega\", \"5\")\n",
              "        .then(() => maybeLoadScript(\"vega-lite\", \"4.17.0\"))\n",
              "        .then(() => maybeLoadScript(\"vega-embed\", \"6\"))\n",
              "        .catch(showError)\n",
              "        .then(() => displayChart(vegaEmbed));\n",
              "    }\n",
              "  })({\"config\": {\"view\": {\"continuousWidth\": 400, \"continuousHeight\": 300}}, \"data\": {\"name\": \"data-6abf57cc0526b9e6f35438868ed0ba3c\"}, \"mark\": \"bar\", \"encoding\": {\"color\": {\"field\": \"% of n to N\", \"scale\": {\"scheme\": \"reds\"}, \"type\": \"ordinal\"}, \"tooltip\": [{\"field\": \"Population Size (N)\", \"type\": \"quantitative\"}, {\"field\": \"Number of Defective EVMs in the Population\", \"type\": \"quantitative\"}, {\"field\": \"Sample Size (n) Required\", \"type\": \"quantitative\"}, {\"field\": \"% of n to N\", \"type\": \"quantitative\"}, {\"field\": \"Probability of Failing to Detect a Defective EVM (%)\", \"type\": \"quantitative\"}], \"x\": {\"field\": \"Population Size (N)\", \"type\": \"quantitative\"}, \"y\": {\"field\": \"Sample Size (n) Required\", \"type\": \"quantitative\"}}, \"height\": 300, \"title\": \"Sample Sizes if EVMs of a Parliamentary Constituency are the Population\", \"width\": 500, \"$schema\": \"https://vega.github.io/schema/vega-lite/v4.17.0.json\", \"datasets\": {\"data-6abf57cc0526b9e6f35438868ed0ba3c\": [{\"Population Size (N)\": 300, \"Number of Defective EVMs in the Population\": 3, \"Sample Size (n) Required\": 443, \"% of n to N\": 2.0, \"Probability of Failing to Detect a Defective EVM (%)\": 0.0}, {\"Population Size (N)\": 600, \"Number of Defective EVMs in the Population\": 6, \"Sample Size (n) Required\": 1183, \"% of n to N\": 1.0, \"Probability of Failing to Detect a Defective EVM (%)\": 0.0}, {\"Population Size (N)\": 1200, \"Number of Defective EVMs in the Population\": 12, \"Sample Size (n) Required\": 3553, \"% of n to N\": 0.5, \"Probability of Failing to Detect a Defective EVM (%)\": 0.0}, {\"Population Size (N)\": 1800, \"Number of Defective EVMs in the Population\": 18, \"Sample Size (n) Required\": 7111, \"% of n to N\": 0.33, \"Probability of Failing to Detect a Defective EVM (%)\": 0.0}]}}, {\"mode\": \"vega-lite\"});\n",
              "</script>"
            ],
            "text/plain": [
              "alt.Chart(...)"
            ]
          },
          "metadata": {},
          "execution_count": 29
        }
      ]
    },
    {
      "cell_type": "markdown",
      "source": [
        "*EVMs of India as ‘population’:*"
      ],
      "metadata": {
        "id": "hvi4OVnsxflB"
      }
    },
    {
      "cell_type": "code",
      "source": [
        "# Define the population size (N) and number of defective EVMs (d) for each state\n",
        "N = np.array([1164, 23672, 32574, 51796, 65341])\n",
        "d = np.array([3, 7, 10, 46, 65])\n",
        "n_eci = np.array([40, 90, 119, 200, 230])  # ECI-prescribed sample size\n",
        "ec = np.array([40, 90, 119, 200, 230])  # number of Assembly Constituencies\n",
        "\n",
        "# Calculate the required sample size (n), percentage of n to N, and average number of EVMs to hand count per AC\n",
        "n = np.ceil(((N*d)/(N+d)).astype(int))\n",
        "n_percent = (n/N)*100\n",
        "avg_ecm = np.ceil(n_eci/ec)\n",
        "\n",
        "# Calculate the probability that ECI-prescribed sample size will fail to detect a defective EVM\n",
        "p_fail = (1-((N-n_eci)/N)**d)*100\n",
        "\n",
        "# Display the results in a table\n",
        "print('State\\tN\\td\\tn\\tn/N\\tAvg. EVMs per AC\\tp_fail')\n",
        "print('-'*80)\n",
        "for i in range(len(N)):\n",
        "    print(f'{i+1}\\t{N[i]}\\t{d[i]}\\t{n[i]}\\t{n_percent[i]:.2f}%\\t{avg_ecm[i]}\\t\\t{p_fail[i]:.1f}%')\n"
      ],
      "metadata": {
        "colab": {
          "base_uri": "https://localhost:8080/"
        },
        "id": "nY-6ZT9p1Cr5",
        "outputId": "cd2a9fbb-73f7-47fe-fe02-89fb19c8217f"
      },
      "execution_count": null,
      "outputs": [
        {
          "output_type": "stream",
          "name": "stdout",
          "text": [
            "State\tN\td\tn\tn/N\tAvg. EVMs per AC\tp_fail\n",
            "--------------------------------------------------------------------------------\n",
            "1\t1164\t3\t2.0\t0.17%\t1.0\t\t10.0%\n",
            "2\t23672\t7\t6.0\t0.03%\t1.0\t\t2.6%\n",
            "3\t32574\t10\t9.0\t0.03%\t1.0\t\t3.6%\n",
            "4\t51796\t46\t45.0\t0.09%\t1.0\t\t16.3%\n",
            "5\t65341\t65\t64.0\t0.10%\t1.0\t\t20.5%\n"
          ]
        }
      ]
    },
    {
      "cell_type": "code",
      "source": [
        "\n",
        "n = 459\n",
        "N = 1000000\n",
        "W = (N - n) / N\n",
        "avg_evm = 0.11\n",
        "\n",
        "# Create a horizontal bar chart for the average number of EVMs per Assembly Constituency whose VVPAT slips should be hand counted\n",
        "fig, ax = plt.subplots(figsize=(10,5))\n",
        "ax.barh(['India'], [avg_evm], color='tab:blue')\n",
        "ax.set_xlabel('Average Number of EVMs per Assembly Constituency')\n",
        "ax.set_title('Hand Counted EVMs in India')\n",
        "ax.grid(axis='x')\n",
        "plt.show()\n",
        "\n",
        "# Create a line chart for the probability that the ECI-prescribed sample size of “one EVM per Assembly Constituency” will fail to detect a defective EVM\n",
        "sample_sizes = np.arange(1, 10000, 1)\n",
        "p_fail = 1 - (1 - W)**sample_sizes\n",
        "fig, ax = plt.subplots(figsize=(10,5))\n",
        "ax.plot(sample_sizes, p_fail, color='tab:orange')\n",
        "ax.set_xlabel('Sample Size (n)')\n",
        "ax.set_ylabel('Probability of Failing to Detect a Defective EVM')\n",
        "ax.set_title('ECI-prescribed Sample Size vs Probability of Detection')\n",
        "ax.grid()\n",
        "plt.show()\n"
      ],
      "metadata": {
        "colab": {
          "base_uri": "https://localhost:8080/",
          "height": 957
        },
        "id": "_VXfKNf6FslQ",
        "outputId": "2a68e9c0-210d-4743-c91e-7a49b4464506"
      },
      "execution_count": null,
      "outputs": [
        {
          "output_type": "display_data",
          "data": {
            "text/plain": [
              "<Figure size 1000x500 with 1 Axes>"
            ],
            "image/png": "[encoded data removed]"
          },
          "metadata": {}
        },
        {
          "output_type": "display_data",
          "data": {
            "text/plain": [
              "<Figure size 1000x500 with 1 Axes>"
            ],
            "image/png": "[encoded data removed]"
          },
          "metadata": {}
        }
      ]
    },
    {
      "cell_type": "markdown",
      "source": [
        "*EVMs used in a State as a whole as ‘population’:*"
      ],
      "metadata": {
        "id": "XWWVygcbCNZu"
      }
    },
    {
      "cell_type": "code",
      "source": [
        "# Define the data for the chart\n",
        "data = pd.DataFrame({\n",
        "    'State': ['Mizoram', 'Chhattisgarh', 'Telangana', 'Rajasthan', 'Madhya Pradesh'],\n",
        "    'Population Size': [1164, 23672, 32574, 51796, 65341],\n",
        "    'Sample Size Required': [370, 455, 455, 457, 457],\n",
        "    'Sampling Fraction': [31.79, 1.92, 1.40, 0.88, 0.70],\n",
        "    'Average EVMs per AC': [10, 5, 4, 2, 2],\n",
        "    'Failure Probability': [0.656, 0.403, 0.301, 0.133, 0.099]\n",
        "})\n",
        "\n",
        "# Define the chart\n",
        "chart = alt.Chart(data).mark_bar().encode(\n",
        "    x=alt.X('State', sort=None),\n",
        "    y='Sample Size Required',\n",
        "    color=alt.Color('State', legend=None),\n",
        "    tooltip=['Population Size', 'Sample Size Required', 'Sampling Fraction', 'Average EVMs per AC', 'Failure Probability']\n",
        ").properties(\n",
        "    title='Sample Sizes for EVMs of a State as a Whole'\n",
        ")\n",
        "\n",
        "# Display the chart\n",
        "chart\n"
      ],
      "metadata": {
        "colab": {
          "base_uri": "https://localhost:8080/",
          "height": 451
        },
        "id": "IIZ_AGD976Eu",
        "outputId": "bb1e5792-a95a-4f32-d305-4d46047b0f1b"
      },
      "execution_count": null,
      "outputs": [
        {
          "output_type": "execute_result",
          "data": {
            "text/html": [
              "\n",
              "<div id=\"altair-viz-a01698bee85b431d8b6e1b544999accd\"></div>\n",
              "<script type=\"text/javascript\">\n",
              "  var VEGA_DEBUG = (typeof VEGA_DEBUG == \"undefined\") ? {} : VEGA_DEBUG;\n",
              "  (function(spec, embedOpt){\n",
              "    let outputDiv = document.currentScript.previousElementSibling;\n",
              "    if (outputDiv.id !== \"altair-viz-a01698bee85b431d8b6e1b544999accd\") {\n",
              "      outputDiv = document.getElementById(\"altair-viz-a01698bee85b431d8b6e1b544999accd\");\n",
              "    }\n",
              "    const paths = {\n",
              "      \"vega\": \"https://cdn.jsdelivr.net/npm//vega@5?noext\",\n",
              "      \"vega-lib\": \"https://cdn.jsdelivr.net/npm//vega-lib?noext\",\n",
              "      \"vega-lite\": \"https://cdn.jsdelivr.net/npm//vega-lite@4.17.0?noext\",\n",
              "      \"vega-embed\": \"https://cdn.jsdelivr.net/npm//vega-embed@6?noext\",\n",
              "    };\n",
              "\n",
              "    function maybeLoadScript(lib, version) {\n",
              "      var key = `${lib.replace(\"-\", \"\")}_version`;\n",
              "      return (VEGA_DEBUG[key] == version) ?\n",
              "        Promise.resolve(paths[lib]) :\n",
              "        new Promise(function(resolve, reject) {\n",
              "          var s = document.createElement('script');\n",
              "          document.getElementsByTagName(\"head\")[0].appendChild(s);\n",
              "          s.async = true;\n",
              "          s.onload = () => {\n",
              "            VEGA_DEBUG[key] = version;\n",
              "            return resolve(paths[lib]);\n",
              "          };\n",
              "          s.onerror = () => reject(`Error loading script: ${paths[lib]}`);\n",
              "          s.src = paths[lib];\n",
              "        });\n",
              "    }\n",
              "\n",
              "    function showError(err) {\n",
              "      outputDiv.innerHTML = `<div class=\"error\" style=\"color:red;\">${err}</div>`;\n",
              "      throw err;\n",
              "    }\n",
              "\n",
              "    function displayChart(vegaEmbed) {\n",
              "      vegaEmbed(outputDiv, spec, embedOpt)\n",
              "        .catch(err => showError(`Javascript Error: ${err.message}<br>This usually means there's a typo in your chart specification. See the javascript console for the full traceback.`));\n",
              "    }\n",
              "\n",
              "    if(typeof define === \"function\" && define.amd) {\n",
              "      requirejs.config({paths});\n",
              "      require([\"vega-embed\"], displayChart, err => showError(`Error loading script: ${err.message}`));\n",
              "    } else {\n",
              "      maybeLoadScript(\"vega\", \"5\")\n",
              "        .then(() => maybeLoadScript(\"vega-lite\", \"4.17.0\"))\n",
              "        .then(() => maybeLoadScript(\"vega-embed\", \"6\"))\n",
              "        .catch(showError)\n",
              "        .then(() => displayChart(vegaEmbed));\n",
              "    }\n",
              "  })({\"config\": {\"view\": {\"continuousWidth\": 400, \"continuousHeight\": 300}}, \"data\": {\"name\": \"data-327163404919beb7bb45bccb62622b16\"}, \"mark\": \"bar\", \"encoding\": {\"color\": {\"field\": \"State\", \"legend\": null, \"type\": \"nominal\"}, \"tooltip\": [{\"field\": \"Population Size\", \"type\": \"quantitative\"}, {\"field\": \"Sample Size Required\", \"type\": \"quantitative\"}, {\"field\": \"Sampling Fraction\", \"type\": \"quantitative\"}, {\"field\": \"Average EVMs per AC\", \"type\": \"quantitative\"}, {\"field\": \"Failure Probability\", \"type\": \"quantitative\"}], \"x\": {\"field\": \"State\", \"sort\": null, \"type\": \"nominal\"}, \"y\": {\"field\": \"Sample Size Required\", \"type\": \"quantitative\"}}, \"title\": \"Sample Sizes for EVMs of a State as a Whole\", \"$schema\": \"https://vega.github.io/schema/vega-lite/v4.17.0.json\", \"datasets\": {\"data-327163404919beb7bb45bccb62622b16\": [{\"State\": \"Mizoram\", \"Population Size\": 1164, \"Sample Size Required\": 370, \"Sampling Fraction\": 31.79, \"Average EVMs per AC\": 10, \"Failure Probability\": 0.656}, {\"State\": \"Chhattisgarh\", \"Population Size\": 23672, \"Sample Size Required\": 455, \"Sampling Fraction\": 1.92, \"Average EVMs per AC\": 5, \"Failure Probability\": 0.403}, {\"State\": \"Telangana\", \"Population Size\": 32574, \"Sample Size Required\": 455, \"Sampling Fraction\": 1.4, \"Average EVMs per AC\": 4, \"Failure Probability\": 0.301}, {\"State\": \"Rajasthan\", \"Population Size\": 51796, \"Sample Size Required\": 457, \"Sampling Fraction\": 0.88, \"Average EVMs per AC\": 2, \"Failure Probability\": 0.133}, {\"State\": \"Madhya Pradesh\", \"Population Size\": 65341, \"Sample Size Required\": 457, \"Sampling Fraction\": 0.7, \"Average EVMs per AC\": 2, \"Failure Probability\": 0.099}]}}, {\"mode\": \"vega-lite\"});\n",
              "</script>"
            ],
            "text/plain": [
              "alt.Chart(...)"
            ]
          },
          "metadata": {},
          "execution_count": 34
        }
      ]
    },
    {
      "cell_type": "markdown",
      "source": [
        "The author might argue that the right population for sampling is the state rather than other levels of constituency because the state represents a homogeneous group of individuals with similar characteristics, such as culture, language, and lifestyle. This makes it easier to obtain a representative sample that accurately reflects the population's characteristics.\n",
        "\n",
        "The author justifies this argument by stating that using EVMs from an assembly constituency or parliamentary constituency would result in a sample size that is nearly as big as the respective population size, leaving little or no scope for statistical sampling. Using EVMs from the entire country as a population for sampling would be too large and administratively infeasible, as counting the VVPAT slips of all remaining EVMs in the population would be too time-consuming.\n",
        "\n",
        "The author suggests that using EVMs from a state as a whole for population sampling would lead to a minimal workload involved in the hand counting of VVPAT slips for the chosen sample size (n). "
      ],
      "metadata": {
        "id": "Q1D-IO-cF2C5"
      }
    }
  ]
}